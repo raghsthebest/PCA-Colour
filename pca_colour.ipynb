{
 "cells": [
  {
   "cell_type": "code",
   "execution_count": 1,
   "metadata": {
    "collapsed": true
   },
   "outputs": [],
   "source": [
    "import numpy as np\n",
    "from scipy import misc\n",
    "import skimage\n",
    "import skimage.color as color\n",
    "import skimage.io as io\n",
    "import matplotlib.pyplot as plt"
   ]
  },
  {
   "cell_type": "code",
   "execution_count": 2,
   "metadata": {
    "collapsed": true
   },
   "outputs": [],
   "source": [
    "# (Vsort, Dsort) = eigsort(V, D)\n",
    "#\n",
    "# Sorts a matrix eigenvectors and a matrix of eigenvalues in order\n",
    "# of eigenvalue size, largest eigenvalue first and smallest eigenvalue\n",
    "# last.\n",
    "#\n",
    "# Example usage:\n",
    "# (D, V) = np.linalg.eig(A)\n",
    "# (Vnew, Dnew) = eigsort(V, D)\n",
    "#\n",
    "# Tim Marks 2002\n",
    "def eigsort(V, D):\n",
    "    eigvals = D if D.ndim == 1 else np.diag(D)\n",
    "\n",
    "    # Sort the eigenvalues from largest to smallest. Store the sorted\n",
    "    # eigenvalues in the column vector eigvec.\n",
    "    lohival = np.sort(eigvals, axis=0)\n",
    "    lohiindex = np.argsort(eigvals, axis=0)\n",
    "    eigvec = np.flipud(lohival)\n",
    "    index = np.flipud(lohiindex)\n",
    "    Dsort = np.diag(eigvec)\n",
    "\n",
    "    # Sort eigenvectors to correspond to the ordered eigenvalues. Store sorted\n",
    "    # eigenvectors as columns of the matrix vsort.\n",
    "    M = len(eigvec)\n",
    "    Vsort = np.zeros((M, M))\n",
    "    for i in range(M):\n",
    "        Vsort[:,i] = V[:,index[i]]\n",
    "\n",
    "    return (Vsort, Dsort)"
   ]
  },
  {
   "cell_type": "code",
   "execution_count": 3,
   "metadata": {
    "collapsed": true
   },
   "outputs": [],
   "source": [
    "# Takes as input a 3xN ZERO-MEANED matrix, with each column a 3-component representation of the color of the pixel\n",
    "# Outputs 3x3 sorted eigenvector matrix\n",
    "def pca(Z):\n",
    "    n = np.shape(Z)[1]\n",
    "    cov = np.dot(Z, np.transpose(Z))/n\n",
    "    (Dold, Vold) = np.linalg.eig(cov)\n",
    "    (V, D) = eigsort(Vold, Dold)\n",
    "    return V"
   ]
  },
  {
   "cell_type": "code",
   "execution_count": 4,
   "metadata": {
    "collapsed": true
   },
   "outputs": [],
   "source": [
    "#Converts RGB to HSI color scheme\n",
    "#Input: 3-channel image\n",
    "#Output: 3-channel image\n",
    "def rgb_to_hsi(test_image):\n",
    "    return color.rgb2hsv(test_image)\n",
    "\n",
    "#Converts HSI back to RGB color scheme for imshow to work. Do not imshow from HSI scheme\n",
    "#Input: 3-channel image\n",
    "#Output: 3-channel image\n",
    "def hsi_to_rgb(test_image):\n",
    "    return color.hsv2rgb(test_image)"
   ]
  },
  {
   "cell_type": "code",
   "execution_count": 5,
   "metadata": {
    "collapsed": true
   },
   "outputs": [],
   "source": [
    "#Converts RGB to Lab color scheme\n",
    "#Input: 3-channel image\n",
    "#Output: 3-channel image\n",
    "def rgb_to_lab(test_image):\n",
    "    return color.rgb2lab(test_image)\n",
    "\n",
    "#Converts Lab back to RGB color scheme for imshow to work. Do not imshow from HSI scheme\n",
    "#Input: 3-channel image\n",
    "#Output: 3-channel image\n",
    "def lab_to_rgb(test_image):\n",
    "    return color.lab2rgb(test_image)"
   ]
  },
  {
   "cell_type": "code",
   "execution_count": 6,
   "metadata": {
    "collapsed": true
   },
   "outputs": [],
   "source": [
    "def rgb_to_rgb(test_image):\n",
    "    return test_image"
   ]
  },
  {
   "cell_type": "code",
   "execution_count": 7,
   "metadata": {
    "collapsed": true
   },
   "outputs": [],
   "source": [
    "# Takes as input a 3xN matrix, colour represenation (rep), the number of eigenvectors to use, and the name of the image\n",
    "# rep:\n",
    "# 'rgb', 'hsi', or 'lab'\n",
    "def pca_reconstruction(rgb_im, rep, n, name, noise='normal'):\n",
    "    \n",
    "    rep_image = {\n",
    "            'rgb': rgb_to_rgb(rgb_im),\n",
    "            'hsi': rgb_to_hsi(rgb_im),\n",
    "            'lab': rgb_to_lab(rgb_im),\n",
    "        }[rep]\n",
    "    \n",
    "    X = np.transpose(rep_image.reshape(-1, rep_image.shape[-1]))\n",
    "    mean = np.mean(X, axis=1)\n",
    "    Z = np.subtract(X, np.vstack(mean))\n",
    "    U = pca(Z)\n",
    "    \n",
    "    c = np.dot(np.transpose(U[:, 0:n]), Z)\n",
    "    reconstructed = np.dot(U[:, 0:n], c) + np.vstack(mean)\n",
    "    \n",
    "    \n",
    "    rec_image = np.transpose(reconstructed).reshape(rgb_im.shape)\n",
    "    \n",
    "    #Threshold out of boundary values\n",
    "    if rep == 'rgb':\n",
    "        rec_image[rec_image <= 0] = 0\n",
    "        rec_image[rec_image >= 255] = 255\n",
    "    elif rep == 'hsi':\n",
    "        rec_image[rec_image <= 0] = 0\n",
    "        rec_image[rec_image >= 1] = 1\n",
    "        \n",
    "    rgb_rec_image = {\n",
    "            'rgb': np.uint8(rec_image) if noise == 'normal' else rgb_to_rgb(rec_image),\n",
    "            'hsi': hsi_to_rgb(rec_image),\n",
    "            'lab': lab_to_rgb(rec_image),\n",
    "        }[rep]\n",
    "    \n",
    "    plt.imsave(name + rep + str(i) + \".png\", rgb_rec_image)"
   ]
  },
  {
   "cell_type": "code",
   "execution_count": null,
   "metadata": {
    "collapsed": true
   },
   "outputs": [],
   "source": [
    "import os\n",
    "images = [f for f in os.listdir(\"Images\") if (f.endswith('.jpg') or f.endswith('.png'))]\n",
    "\n",
    "for i in range(1,2):\n",
    "    for im in images:\n",
    "        img = misc.imread('Images/' + im)\n",
    "        name = \"Results/\" + im.split('.')[0]\n",
    "        \n",
    "        pca_reconstruction(img, 'rgb', i, name)\n",
    "        pca_reconstruction(img, 'hsi', i, name)\n",
    "        pca_reconstruction(img, 'lab', i, name)"
   ]
  }
 ],
 "metadata": {
  "kernelspec": {
   "display_name": "Python 3",
   "language": "python",
   "name": "python3"
  },
  "language_info": {
   "codemirror_mode": {
    "name": "ipython",
    "version": 3
   },
   "file_extension": ".py",
   "mimetype": "text/x-python",
   "name": "python",
   "nbconvert_exporter": "python",
   "pygments_lexer": "ipython3",
   "version": "3.6.3"
  }
 },
 "nbformat": 4,
 "nbformat_minor": 2
}
